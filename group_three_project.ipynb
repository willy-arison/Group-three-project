{
 "cells": [
  {
   "cell_type": "code",
   "execution_count": 14,
   "id": "11c5650b",
   "metadata": {},
   "outputs": [],
   "source": [
    "import re"
   ]
  },
  {
   "cell_type": "code",
   "execution_count": 23,
   "id": "19ce5f55",
   "metadata": {},
   "outputs": [
    {
     "name": "stdout",
     "output_type": "stream",
     "text": [
      "Enter password :123ASKDasd!\n"
     ]
    },
    {
     "data": {
      "text/plain": [
       "True"
      ]
     },
     "execution_count": 23,
     "metadata": {},
     "output_type": "execute_result"
    }
   ],
   "source": [
    "import string\n",
    "\n",
    "SPECIAL_CHARACTER = string.punctuation\n",
    "\n",
    "def check_password(password:str):\n",
    "    \"\"\"Check if a given password is strong or weak.\"\"\"\n",
    "    \n",
    "    # check the length of the password.\n",
    "    if len(password)<8:\n",
    "        return False\n",
    "    \n",
    "    lower = re.findall(\"[a-z]\", password)\n",
    "    upper = re.findall(\"[A-Z]\", password)\n",
    "    digits = re.findall(\"[0-9]\", password)\n",
    "\n",
    "    # check if there is a special character in our password.\n",
    "    for ch in password:\n",
    "        if ch in SPECIAL_CHARACTER:\n",
    "            break\n",
    "    else:\n",
    "        return False\n",
    "\n",
    "    # check if there is a lowercase, uppercase and digits in our password.\n",
    "    if len(lower)==0 or len(upper)==0 or len(digits)==0:\n",
    "        return False\n",
    "    \n",
    "    return True\n",
    "  \n",
    "\n",
    "password = input('Enter password :')\n",
    "check_password(password)"
   ]
  },
  {
   "cell_type": "code",
   "execution_count": 8,
   "id": "printable-seller",
   "metadata": {},
   "outputs": [
    {
     "data": {
      "text/plain": [
       "'!\"#$%&\\'()*+,-./:;<=>?@[\\\\]^_`{|}~'"
      ]
     },
     "execution_count": 8,
     "metadata": {},
     "output_type": "execute_result"
    }
   ],
   "source": [
    "PUNCTIATION"
   ]
  },
  {
   "cell_type": "code",
   "execution_count": null,
   "id": "veterinary-florence",
   "metadata": {},
   "outputs": [],
   "source": []
  }
 ],
 "metadata": {
  "kernelspec": {
   "display_name": "Python 3",
   "language": "python",
   "name": "python3"
  },
  "language_info": {
   "codemirror_mode": {
    "name": "ipython",
    "version": 3
   },
   "file_extension": ".py",
   "mimetype": "text/x-python",
   "name": "python",
   "nbconvert_exporter": "python",
   "pygments_lexer": "ipython3",
   "version": "3.9.2"
  }
 },
 "nbformat": 4,
 "nbformat_minor": 5
}
